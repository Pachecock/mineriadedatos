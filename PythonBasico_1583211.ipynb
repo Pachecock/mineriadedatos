{
 "cells": [
  {
   "cell_type": "code",
   "execution_count": 1,
   "metadata": {},
   "outputs": [
    {
     "name": "stdout",
     "output_type": "stream",
     "text": [
      "Jesus Mauricio Rodriguez Pacheco 1583211\n"
     ]
    }
   ],
   "source": [
    "matricula=1583211\n",
    "name= \"Jesus Mauricio Rodriguez Pacheco \"\n",
    "print(name+str(matricula))"
   ]
  },
  {
   "cell_type": "code",
   "execution_count": 2,
   "metadata": {},
   "outputs": [
    {
     "name": "stdout",
     "output_type": "stream",
     "text": [
      "Introduce el primer número:9\n",
      "Introduce el segundo número:3\n",
      "La suma de 9 más 3 es: 12\n",
      "La resta de 9 menos 3 es: 6\n",
      "La resta de 3 menos 9 es: -6\n",
      "La multiplicación de 9 por 3 es: 27\n",
      "La división de 9 entre 3 es: 3.0\n",
      "La división de 3 entre 9 es: 0.3333333333333333\n",
      "9 elevado a la 3 es: 729\n",
      "3 elevado a la 9 es: 19683\n"
     ]
    }
   ],
   "source": [
    "n1= int(input(\"Introduce el primer número:\"))\n",
    "n2= int(input(\"Introduce el segundo número:\"))\n",
    "\n",
    "suma= n1+n2\n",
    "resta1= n1-n2\n",
    "resta2= n2-n1\n",
    "mult= n1*n2\n",
    "div1= n1/n2\n",
    "div2= n2/n1\n",
    "exp1= n1**n2\n",
    "exp2= n2**n1\n",
    "\n",
    "print(\"La suma de\", n1, \"más\", n2, \"es:\", suma)\n",
    "print(\"La resta de\", n1, \"menos\", n2,\"es:\", resta1)\n",
    "print(\"La resta de\", n2, \"menos\", n1,\"es:\", resta2)\n",
    "print(\"La multiplicación de\", n1, \"por\", n2, \"es:\", mult)\n",
    "print(\"La división de\", n1, \"entre\", n2, \"es:\", div1)\n",
    "print(\"La división de\", n2, \"entre\", n1, \"es:\", div2)\n",
    "print(n1, \"elevado a la\", n2, \"es:\", exp1)\n",
    "print(n2, \"elevado a la\", n1, \"es:\", exp2)"
   ]
  },
  {
   "cell_type": "code",
   "execution_count": 3,
   "metadata": {},
   "outputs": [
    {
     "name": "stdout",
     "output_type": "stream",
     "text": [
      "La lista de 10 números multiplos de 3: [3, 6, 9, 12, 15, 18, 21, 24, 27, 30]\n",
      "La suma es de nuestro vector de números multiplos de 3 es: 165\n"
     ]
    }
   ],
   "source": [
    "\n",
    "i=1\n",
    "lista=[]\n",
    "\n",
    "for i in range(1,31):\n",
    "    if i%3==0:\n",
    "        lista.append(i)\n",
    "i=i+1\n",
    "\n",
    "print(\"La lista de 10 números multiplos de 3:\",lista)\n",
    "print(\"La suma es de nuestro vector de números multiplos de 3 es:\",sum(lista))"
   ]
  },
  {
   "cell_type": "code",
   "execution_count": 4,
   "metadata": {},
   "outputs": [
    {
     "name": "stdout",
     "output_type": "stream",
     "text": [
      "Selecciona un número: 6\n",
      "El número 6 es par\n"
     ]
    }
   ],
   "source": [
    "num=int(input(\"Selecciona un número: \"))\n",
    "\n",
    "if num%2==0:\n",
    "    print(\"El número\", num, \"es par\")\n",
    "else:\n",
    "    print(\"El número\", num, \"es impar\")"
   ]
  },
  {
   "cell_type": "code",
   "execution_count": 5,
   "metadata": {},
   "outputs": [
    {
     "name": "stdout",
     "output_type": "stream",
     "text": [
      "Selecciona un número: 5\n",
      "El número 5 es primo\n"
     ]
    }
   ],
   "source": [
    "num2=int(input(\"Selecciona un número: \"))\n",
    "i=0\n",
    "aux=0\n",
    "\n",
    "for i in range (2,num2-1):\n",
    "    if num2%i==0:\n",
    "        aux= aux+1\n",
    "i=i+1\n",
    "\n",
    "if aux>0:\n",
    "    print(\"El número\", num2,\"no es primo\")\n",
    "else:\n",
    "    print (\"El número\", num2, \"es primo\")"
   ]
  },
  {
   "cell_type": "code",
   "execution_count": 6,
   "metadata": {},
   "outputs": [
    {
     "name": "stdout",
     "output_type": "stream",
     "text": [
      "Introduce el primer número:7\n",
      "Introduce el segundo número:3\n",
      "La suma de 7 más 3 es: 10\n",
      "La resta de 7 menos 3 es: 4\n",
      "La resta de 3 menos 7 es: -4\n",
      "La multiplicación de 7 por 3 es: 21\n",
      "La división de 7 entre 3 es: 2.3333333333333335\n",
      "La división de 3 entre 7 es: 0.42857142857142855\n",
      "7 elevado a la 3 es: 343.0\n",
      "3 elevado a la 7 es: 2187.0\n"
     ]
    }
   ],
   "source": [
    "import math as m\n",
    "\n",
    "n1= int(input(\"Introduce el primer número:\"))\n",
    "n2= int(input(\"Introduce el segundo número:\"))\n",
    "\n",
    "suma= n1+n2\n",
    "resta1= n1-n2\n",
    "resta2= n2-n1\n",
    "mult= n1*n2\n",
    "div1= n1/n2\n",
    "div2= n2/n1\n",
    "exp1= m.pow(n1,n2)\n",
    "exp2= m.pow(n2,n1)\n",
    "\n",
    "print(\"La suma de\", n1, \"más\", n2, \"es:\", suma)\n",
    "print(\"La resta de\", n1, \"menos\", n2,\"es:\", resta1)\n",
    "print(\"La resta de\", n2, \"menos\", n1,\"es:\", resta2)\n",
    "print(\"La multiplicación de\", n1, \"por\", n2, \"es:\", mult)\n",
    "print(\"La división de\", n1, \"entre\", n2, \"es:\", div1)\n",
    "print(\"La división de\", n2, \"entre\", n1, \"es:\", div2)\n",
    "print(n1, \"elevado a la\", n2, \"es:\", exp1)\n",
    "print(n2, \"elevado a la\", n1, \"es:\", exp2)"
   ]
  },
  {
   "cell_type": "code",
   "execution_count": 7,
   "metadata": {},
   "outputs": [
    {
     "name": "stdout",
     "output_type": "stream",
     "text": [
      "0.01     su tipo es <class 'float'>\n",
      "5     su tipo es <class 'int'>\n",
      "True     su tipo es <class 'bool'>\n",
      "(2+3j)     su tipo es <class 'complex'>\n"
     ]
    }
   ],
   "source": [
    "tupla=(0.01,5,True,2+3j)\n",
    "for i in range (len(tupla)):\n",
    "    print(tupla[i], \"    su tipo es\", type(tupla[i]))"
   ]
  },
  {
   "cell_type": "code",
   "execution_count": 8,
   "metadata": {},
   "outputs": [
    {
     "name": "stdout",
     "output_type": "stream",
     "text": [
      "Su primer valor es: 5\n",
      "Su ultimo valor es: 7\n"
     ]
    }
   ],
   "source": [
    "tupla=(5,6,1,2,3,9,7)\n",
    "print (\"Su primer valor es:\", tupla[0])\n",
    "print (\"Su ultimo valor es:\", tupla[len(tupla)-1])"
   ]
  },
  {
   "cell_type": "code",
   "execution_count": 17,
   "metadata": {},
   "outputs": [
    {
     "name": "stdout",
     "output_type": "stream",
     "text": [
      "(5, 6, 1, 2, 3, 9, 7, 'gsdfgs', 'sdgsdgr', 'hj')\n"
     ]
    }
   ],
   "source": [
    "\n",
    "tupla=(5,6,1,2,3,9,7)\n",
    "tuplalista=list(tupla)\n",
    "tuplalista.append(\"gsdfgs\")\n",
    "tuplalista.append(\"sdgsdgr\")\n",
    "tuplalista.append(\"hj\")\n",
    "\n",
    "tuplafin= tuple(tuplalista)\n",
    "print(tuplafin)\n"
   ]
  },
  {
   "cell_type": "code",
   "execution_count": null,
   "metadata": {},
   "outputs": [],
   "source": [
    "\n",
    "aux=0\n",
    "tupla=(5,6,1,2,3,9,7)\n",
    "valor= int(input(\"Ingrese el valor a buscar: \"))\n",
    "\n",
    "for i in range (len(tupla)):\n",
    "    if valor==tupla[i]:\n",
    "        aux=aux+1\n",
    "        \n",
    "if aux==0:\n",
    "    print(\"El valor\", valor, \"no está dentro de la tupla\")\n",
    "else:\n",
    "    print(\"El valor\", valor, \"está dentro de la tupla\")"
   ]
  },
  {
   "cell_type": "code",
   "execution_count": null,
   "metadata": {},
   "outputs": [],
   "source": [
    "import random as r\n",
    "i=0\n",
    "lista=[]\n",
    "\n",
    "for i in range(40):\n",
    "    val=r.randint(1,100)\n",
    "    lista.append(val)\n",
    "print(lista)"
   ]
  },
  {
   "cell_type": "code",
   "execution_count": null,
   "metadata": {},
   "outputs": [],
   "source": [
    "import random as r\n",
    "i=0\n",
    "lista=[]\n",
    "\n",
    "for i in range(40):\n",
    "    val=r.randint(1,100)\n",
    "    lista.append(val)\n",
    "print(\"La lista completa es: \",lista)\n",
    "print(\"La longitud de la lista completa es: \",len(lista))\n",
    "def separar(l):\n",
    "    j=0\n",
    "    listapares=[]\n",
    "    listaimpares=[]\n",
    "    \n",
    "    #aqui verificamos si cada numero de nuestro vector es par o impar usando mod\n",
    "    for j in range(40):\n",
    "        if lista[j] % 2 == 0:\n",
    "            listapares.append(lista[j])\n",
    "        else:\n",
    "            listaimpares.append(lista[j])\n",
    "            \n",
    "    #usamos la funcion de len y de sorted para verificar la longitud de nuestros vectores y acomodar nuestros numeros respectivamente\n",
    "    print(\"La lista de los pares es: \", listapares)\n",
    "    print(\"La lista de los impares es: \", listaimpares)\n",
    "    print(\"La longitud de la lista de los pares es: \",len(listapares))\n",
    "    print(\"La longitud de la lista de los impares es: \",len(listaimpares))\n",
    "    print(\"La lista de los numeros pares ordenados de mayor a menor es: \", sorted(listapares,reverse=True))\n",
    "    print(\"La lista de los numeros impares ordenados de menor a mayor es: \", sorted(listaimpares))\n",
    "    \n",
    "separar(lista)"
   ]
  },
  {
   "cell_type": "code",
   "execution_count": null,
   "metadata": {},
   "outputs": [],
   "source": [
    "import random as r\n",
    "i=0\n",
    "lista=[]\n",
    "\n",
    "for i in range(20):\n",
    "    val=r.randint(1,100)\n",
    "    lista.append(val)\n",
    "print(lista)\n",
    "\n",
    "print(\"La suma de la lista es:\", sum(lista))\n",
    "print(\"La longitud de la lista es:\", len(lista))\n",
    "print(\"El número mayor de la lista es:\", max(lista))\n",
    "print(\"El número menor de la lista es:\", min(lista))"
   ]
  },
  {
   "cell_type": "code",
   "execution_count": null,
   "metadata": {},
   "outputs": [],
   "source": []
  },
  {
   "cell_type": "code",
   "execution_count": null,
   "metadata": {},
   "outputs": [],
   "source": [
    "import random as r\n",
    "\n",
    "#aqui generamos 100 numeros aleatorios del 1 a 25\n",
    "i=0\n",
    "lista=[]\n",
    "\n",
    "for i in range(100):\n",
    "    val=r.randint(1,25)\n",
    "    lista.append(val)\n",
    "print(\"La lista completa es: \",lista)\n",
    "\n",
    "\n",
    "print(\"la longitud del set 1 es: \",len(lista))\n",
    "\n",
    "\n",
    "\n",
    "\n",
    "\n",
    "#aqui generamos 5 numeros aleatorios del 1 a 10\n",
    "set2=[]\n",
    "\n",
    "for i in range(5):\n",
    "    val2=r.randint(1,10)\n",
    "    set2.append(val2)\n",
    "print(\"Los numeros de la lista 2 son: \",set2)\n",
    "\n",
    "\n",
    "\n",
    "\n",
    "#aqui comparamos si los datos del set 2 aparencen en el set 1 y al final los imprimimos\n",
    "set3=[]\n",
    "i=0\n",
    "j=0\n",
    "for j in range(99):\n",
    "    for i in range(4):\n",
    "        if set2[i]==lista[j]:\n",
    "            val3 = set2[i]\n",
    "            set3.append(val3)\n",
    "           \n",
    "print(\"Estos son los valores que aparecen en el set inicial: \", set(set3))"
   ]
  },
  {
   "cell_type": "code",
   "execution_count": null,
   "metadata": {},
   "outputs": [],
   "source": []
  },
  {
   "cell_type": "code",
   "execution_count": null,
   "metadata": {},
   "outputs": [],
   "source": []
  },
  {
   "cell_type": "code",
   "execution_count": null,
   "metadata": {},
   "outputs": [],
   "source": []
  },
  {
   "cell_type": "code",
   "execution_count": null,
   "metadata": {},
   "outputs": [],
   "source": []
  }
 ],
 "metadata": {
  "kernelspec": {
   "display_name": "Python 3",
   "language": "python",
   "name": "python3"
  },
  "language_info": {
   "codemirror_mode": {
    "name": "ipython",
    "version": 3
   },
   "file_extension": ".py",
   "mimetype": "text/x-python",
   "name": "python",
   "nbconvert_exporter": "python",
   "pygments_lexer": "ipython3",
   "version": "3.8.5"
  }
 },
 "nbformat": 4,
 "nbformat_minor": 4
}
#http://localhost:8889/notebooks/python.ipynb
